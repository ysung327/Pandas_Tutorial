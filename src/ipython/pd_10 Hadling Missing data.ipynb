{
 "cells": [
  {
   "cell_type": "code",
   "execution_count": 28,
   "metadata": {},
   "outputs": [],
   "source": [
    "%matplotlib notebook\n",
    "import pandas as pd\n",
    "import matplotlib.pyplot as plt\n",
    "from matplotlib import style"
   ]
  },
  {
   "cell_type": "code",
   "execution_count": 29,
   "metadata": {},
   "outputs": [],
   "source": [
    "style.use('ggplot')"
   ]
  },
  {
   "cell_type": "code",
   "execution_count": 30,
   "metadata": {},
   "outputs": [],
   "source": [
    "def OneYear_Resampling():\n",
    "    HPI_data = pd.read_pickle('../src/fiddy_states_pct.pickle')\n",
    "    columns = HPI_data.columns.values\n",
    "    for column in columns:\n",
    "        HPI_data[column] = HPI_data[column].resample('A').mean()\n",
    "    HPI_data.to_pickle('../src/fiddy_states_1year.pickle')\n",
    "    return HPI_data"
   ]
  },
  {
   "cell_type": "code",
   "execution_count": 31,
   "metadata": {},
   "outputs": [],
   "source": [
    "HPI_data = OneYear_Resampling()"
   ]
  },
  {
   "cell_type": "code",
   "execution_count": 32,
   "metadata": {},
   "outputs": [
    {
     "name": "stdout",
     "output_type": "stream",
     "text": [
      "            AL  AK  AZ  AR  CA  CO  CT  DE  FL  GA ...  SD  TN  TX  UT  VT  \\\n",
      "Date                                               ...                       \n",
      "1999-01-31 NaN NaN NaN NaN NaN NaN NaN NaN NaN NaN ... NaN NaN NaN NaN NaN   \n",
      "1999-02-28 NaN NaN NaN NaN NaN NaN NaN NaN NaN NaN ... NaN NaN NaN NaN NaN   \n",
      "1999-03-31 NaN NaN NaN NaN NaN NaN NaN NaN NaN NaN ... NaN NaN NaN NaN NaN   \n",
      "1999-04-30 NaN NaN NaN NaN NaN NaN NaN NaN NaN NaN ... NaN NaN NaN NaN NaN   \n",
      "1999-05-31 NaN NaN NaN NaN NaN NaN NaN NaN NaN NaN ... NaN NaN NaN NaN NaN   \n",
      "\n",
      "            VA  WA  WV  WI  WY  \n",
      "Date                            \n",
      "1999-01-31 NaN NaN NaN NaN NaN  \n",
      "1999-02-28 NaN NaN NaN NaN NaN  \n",
      "1999-03-31 NaN NaN NaN NaN NaN  \n",
      "1999-04-30 NaN NaN NaN NaN NaN  \n",
      "1999-05-31 NaN NaN NaN NaN NaN  \n",
      "\n",
      "[5 rows x 50 columns]\n"
     ]
    }
   ],
   "source": [
    "print(HPI_data.head()) #there are lots of na"
   ]
  },
  {
   "cell_type": "code",
   "execution_count": 33,
   "metadata": {},
   "outputs": [],
   "source": [
    "HPI_data_drop = HPI_data.dropna()"
   ]
  },
  {
   "cell_type": "code",
   "execution_count": 34,
   "metadata": {},
   "outputs": [
    {
     "name": "stdout",
     "output_type": "stream",
     "text": [
      "                   AL         AK         AZ         AR         CA         CO  \\\n",
      "Date                                                                           \n",
      "1999-12-31   2.184880   2.522058   2.973973   1.564445   5.998441   5.282511   \n",
      "2000-12-31   5.667049   5.290017   9.621756   4.985017  20.444755  17.467427   \n",
      "2001-12-31   7.941907  11.252771  15.311756   8.391570  35.477626  27.390002   \n",
      "2002-12-31  11.026944  18.155231  22.234278  12.460045  53.642030  32.880356   \n",
      "2003-12-31  14.861159  26.694269  31.607506  17.778451  78.392171  35.541917   \n",
      "\n",
      "                   CT         DE         FL         GA    ...             SD  \\\n",
      "Date                                                      ...                  \n",
      "1999-12-31   4.719477   3.983384   3.246057   3.905032    ...       3.200885   \n",
      "2000-12-31  14.191804  10.781287  11.142754  11.007870    ...       8.226143   \n",
      "2001-12-31  24.016712  19.014114  21.920334  16.435315    ...      11.977135   \n",
      "2002-12-31  37.740533  29.750426  35.973402  21.343501    ...      16.644014   \n",
      "2003-12-31  51.877708  44.168911  53.573807  25.207454    ...      22.226395   \n",
      "\n",
      "                   TN         TX        UT         VT         VA         WA  \\\n",
      "Date                                                                          \n",
      "1999-12-31   2.112950   3.781500  1.851293   4.360026   3.360005   3.901321   \n",
      "2000-12-31   5.518556  10.753894  4.623666  12.675140  10.973010   9.754953   \n",
      "2001-12-31   7.637152  16.643046  5.757605  21.591178  21.060348  14.541871   \n",
      "2002-12-31  10.839923  20.867296  7.298947  32.357931  33.568624  20.240081   \n",
      "2003-12-31  14.699806  24.061076  9.040059  43.924940  48.607307  27.886277   \n",
      "\n",
      "                   WV         WI         WY  \n",
      "Date                                         \n",
      "1999-12-31   1.431803   3.947831   3.125115  \n",
      "2000-12-31   4.766983  10.290318   7.761432  \n",
      "2001-12-31   6.434872  15.444955  13.334997  \n",
      "2002-12-31  10.012614  22.053472  21.546212  \n",
      "2003-12-31  14.899875  29.715664  30.322014  \n",
      "\n",
      "[5 rows x 50 columns]\n"
     ]
    }
   ],
   "source": [
    "print(HPI_data_drop.head())"
   ]
  },
  {
   "cell_type": "code",
   "execution_count": 27,
   "metadata": {},
   "outputs": [
    {
     "name": "stdout",
     "output_type": "stream",
     "text": [
      "            AL  AK  AZ  AR  CA  CO  CT  DE  FL  GA ...  SD  TN  TX  UT  VT  \\\n",
      "Date                                               ...                       \n",
      "1999-01-31 NaN NaN NaN NaN NaN NaN NaN NaN NaN NaN ... NaN NaN NaN NaN NaN   \n",
      "1999-02-28 NaN NaN NaN NaN NaN NaN NaN NaN NaN NaN ... NaN NaN NaN NaN NaN   \n",
      "1999-03-31 NaN NaN NaN NaN NaN NaN NaN NaN NaN NaN ... NaN NaN NaN NaN NaN   \n",
      "1999-04-30 NaN NaN NaN NaN NaN NaN NaN NaN NaN NaN ... NaN NaN NaN NaN NaN   \n",
      "1999-05-31 NaN NaN NaN NaN NaN NaN NaN NaN NaN NaN ... NaN NaN NaN NaN NaN   \n",
      "\n",
      "            VA  WA  WV  WI  WY  \n",
      "Date                            \n",
      "1999-01-31 NaN NaN NaN NaN NaN  \n",
      "1999-02-28 NaN NaN NaN NaN NaN  \n",
      "1999-03-31 NaN NaN NaN NaN NaN  \n",
      "1999-04-30 NaN NaN NaN NaN NaN  \n",
      "1999-05-31 NaN NaN NaN NaN NaN  \n",
      "\n",
      "[5 rows x 50 columns]\n"
     ]
    }
   ],
   "source": [
    "HPI_data_fill = HPI_data.fillna(method='ffill')\n",
    "print(HPI_data_fill.head())"
   ]
  }
 ],
 "metadata": {
  "kernelspec": {
   "display_name": "Python 3",
   "language": "python",
   "name": "python3"
  },
  "language_info": {
   "codemirror_mode": {
    "name": "ipython",
    "version": 3
   },
   "file_extension": ".py",
   "mimetype": "text/x-python",
   "name": "python",
   "nbconvert_exporter": "python",
   "pygments_lexer": "ipython3",
   "version": "3.5.5"
  }
 },
 "nbformat": 4,
 "nbformat_minor": 2
}
