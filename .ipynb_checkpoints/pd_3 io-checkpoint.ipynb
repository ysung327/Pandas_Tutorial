{
 "cells": [
  {
   "cell_type": "code",
   "execution_count": 2,
   "metadata": {},
   "outputs": [],
   "source": [
    "import pandas as pd\n",
    "import pandas.io\n"
   ]
  },
  {
   "cell_type": "code",
   "execution_count": 3,
   "metadata": {},
   "outputs": [],
   "source": [
    "df = pd.read_csv('ZILLOW-Z77006_ZRIFAH.csv')"
   ]
  },
  {
   "cell_type": "code",
   "execution_count": 4,
   "metadata": {},
   "outputs": [
    {
     "name": "stdout",
     "output_type": "stream",
     "text": [
      "         Date  Value\n",
      "0  2018-05-31  1.396\n",
      "1  2018-04-30  1.396\n",
      "2  2018-03-31  1.396\n",
      "3  2018-02-28  1.394\n",
      "4  2018-01-31  1.394\n"
     ]
    }
   ],
   "source": [
    "print(df.head())"
   ]
  },
  {
   "cell_type": "code",
   "execution_count": 5,
   "metadata": {},
   "outputs": [],
   "source": [
    "df.set_index('Date', inplace=True)\n",
    "df.to_csv('newcsv2.csv')"
   ]
  },
  {
   "cell_type": "code",
   "execution_count": 6,
   "metadata": {},
   "outputs": [
    {
     "name": "stdout",
     "output_type": "stream",
     "text": [
      "            Value\n",
      "Date             \n",
      "2018-05-31  1.396\n",
      "2018-04-30  1.396\n",
      "2018-03-31  1.396\n",
      "2018-02-28  1.394\n",
      "2018-01-31  1.394\n"
     ]
    }
   ],
   "source": [
    "print(df.head())"
   ]
  },
  {
   "cell_type": "code",
   "execution_count": 9,
   "metadata": {},
   "outputs": [
    {
     "name": "stdout",
     "output_type": "stream",
     "text": [
      "         Date  Value\n",
      "0  2018-05-31  1.396\n",
      "1  2018-04-30  1.396\n",
      "2  2018-03-31  1.396\n",
      "3  2018-02-28  1.394\n",
      "4  2018-01-31  1.394\n",
      "            Value\n",
      "Date             \n",
      "2018-05-31  1.396\n",
      "2018-04-30  1.396\n",
      "2018-03-31  1.396\n",
      "2018-02-28  1.394\n",
      "2018-01-31  1.394\n"
     ]
    }
   ],
   "source": [
    "df = pd.read_csv('newcsv2.csv')\n",
    "print(df.head()) #csv file does not have index. so, it prints default index.\n",
    "\n",
    "df = pd.read_csv('newcsv2.csv', index_col=0)\n",
    "print(df.head())"
   ]
  },
  {
   "cell_type": "code",
   "execution_count": 8,
   "metadata": {},
   "outputs": [
    {
     "name": "stdout",
     "output_type": "stream",
     "text": [
      "            Austin_HPI\n",
      "Date                  \n",
      "2018-05-31       1.396\n",
      "2018-04-30       1.396\n",
      "2018-03-31       1.396\n",
      "2018-02-28       1.394\n",
      "2018-01-31       1.394\n"
     ]
    }
   ],
   "source": [
    "df.columns = ['Austin_HPI'] #rename column's name\n",
    "print(df.head())"
   ]
  },
  {
   "cell_type": "code",
   "execution_count": 10,
   "metadata": {},
   "outputs": [],
   "source": [
    "df.to_csv('newcsv3.csv')"
   ]
  },
  {
   "cell_type": "code",
   "execution_count": 11,
   "metadata": {},
   "outputs": [],
   "source": [
    "df.to_csv('newcsv4.csv', header=False) #delete header"
   ]
  },
  {
   "cell_type": "code",
   "execution_count": 18,
   "metadata": {},
   "outputs": [
    {
     "name": "stdout",
     "output_type": "stream",
     "text": [
      "           Austin_HPI\n",
      "Date                 \n",
      "Date            Value\n",
      "2018-05-31      1.396\n",
      "2018-04-30      1.396\n",
      "2018-03-31      1.396\n",
      "2018-02-28      1.394\n",
      "\n",
      "\n",
      "            Austin_HPI\n",
      "Date                  \n",
      "2018-05-31       1.396\n",
      "2018-04-30       1.396\n",
      "2018-03-31       1.396\n",
      "2018-02-28       1.394\n",
      "2018-01-31       1.394\n"
     ]
    }
   ],
   "source": [
    "df = pd.read_csv('newcsv3.csv', names=['Date', 'Austin_HPI'], index_col=0)\n",
    "print(df.head()) #header remains\n",
    "\n",
    "print('\\n')\n",
    "\n",
    "df = pd.read_csv('newcsv4.csv', names=['Date', 'Austin_HPI'], index_col=0)\n",
    "print(df.head())"
   ]
  },
  {
   "cell_type": "code",
   "execution_count": 19,
   "metadata": {},
   "outputs": [],
   "source": [
    "#convert dataframe into html table\n",
    "df.to_html('example.html')"
   ]
  },
  {
   "cell_type": "code",
   "execution_count": 21,
   "metadata": {},
   "outputs": [
    {
     "name": "stdout",
     "output_type": "stream",
     "text": [
      "         Date  Austin_HPI\n",
      "0  2018-05-31       1.396\n",
      "1  2018-04-30       1.396\n",
      "2  2018-03-31       1.396\n",
      "3  2018-02-28       1.394\n",
      "4  2018-01-31       1.394\n",
      "\n",
      "\n",
      "         Date  77006_HPI\n",
      "0  2018-05-31      1.396\n",
      "1  2018-04-30      1.396\n",
      "2  2018-03-31      1.396\n",
      "3  2018-02-28      1.394\n",
      "4  2018-01-31      1.394\n"
     ]
    }
   ],
   "source": [
    "df = pd.read_csv('newcsv4.csv', names=['Date', 'Austin_HPI'])\n",
    "print(df.head())\n",
    "\n",
    "print('\\n')\n",
    "\n",
    "df.rename(columns={'Austin_HPI':'77006_HPI'}, inplace=True)\n",
    "print(df.head())\n"
   ]
  },
  {
   "cell_type": "code",
   "execution_count": null,
   "metadata": {},
   "outputs": [],
   "source": []
  }
 ],
 "metadata": {
  "kernelspec": {
   "display_name": "Python 3",
   "language": "python",
   "name": "python3"
  },
  "language_info": {
   "codemirror_mode": {
    "name": "ipython",
    "version": 3
   },
   "file_extension": ".py",
   "mimetype": "text/x-python",
   "name": "python",
   "nbconvert_exporter": "python",
   "pygments_lexer": "ipython3",
   "version": "3.5.5"
  }
 },
 "nbformat": 4,
 "nbformat_minor": 2
}
