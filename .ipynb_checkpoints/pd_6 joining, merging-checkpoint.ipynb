{
 "cells": [
  {
   "cell_type": "code",
   "execution_count": 1,
   "metadata": {},
   "outputs": [],
   "source": [
    "import pandas as pd"
   ]
  },
  {
   "cell_type": "code",
   "execution_count": 2,
   "metadata": {},
   "outputs": [],
   "source": [
    "df1 = pd.DataFrame({'HPI':[80,85,88,85],\n",
    "                    'Int_rate':[2, 3, 2, 2],\n",
    "                    'US_GDP_Thousands':[50, 55, 65, 55]},\n",
    "                   index = [2001, 2002, 2003, 2004])\n",
    "\n",
    "df2 = pd.DataFrame({'HPI':[80,85,88,85],\n",
    "                    'Int_rate':[2, 3, 2, 2],\n",
    "                    'US_GDP_Thousands':[50, 55, 65, 55]},\n",
    "                   index = [2005, 2006, 2007, 2008])\n",
    "\n",
    "df3 = pd.DataFrame({'HPI':[80,85,88,85],\n",
    "                    'Unemployment':[7, 8, 9, 6],\n",
    "                    'Low_tier_HPI':[50, 52, 50, 53]},\n",
    "                   index = [2001, 2002, 2003, 2004])"
   ]
  },
  {
   "cell_type": "code",
   "execution_count": 3,
   "metadata": {},
   "outputs": [
    {
     "data": {
      "text/plain": [
       "\" When does we use the merge?\\nyou might controll all the user data from your website. \\nBut it is unefficient to manage all of data at one dataframe.\\nSo, dataframe is spilt into small dataframe with sharing common index, 'username'.\\nWhen user want to change their username, all of small dataframes should be merged.\\n\""
      ]
     },
     "execution_count": 3,
     "metadata": {},
     "output_type": "execute_result"
    }
   ],
   "source": [
    "''' When does we use the merge?\n",
    "you might controll all the user data from your website. \n",
    "But it is unefficient to manage all of data at one dataframe.\n",
    "So, dataframe is spilt into small dataframe with sharing common index, 'username'.\n",
    "When user want to change their username, all of small dataframes should be merged.\n",
    "'''"
   ]
  },
  {
   "cell_type": "code",
   "execution_count": 4,
   "metadata": {},
   "outputs": [
    {
     "name": "stdout",
     "output_type": "stream",
     "text": [
      "   HPI  Int_rate  US_GDP_Thousands_x  US_GDP_Thousands_y\n",
      "0   80         2                  50                  50\n",
      "1   85         3                  55                  55\n",
      "2   88         2                  65                  65\n",
      "3   85         2                  55                  55\n"
     ]
    }
   ],
   "source": [
    "print(pd.merge(df1,df2, on=['HPI','Int_rate']))"
   ]
  },
  {
   "cell_type": "code",
   "execution_count": 5,
   "metadata": {},
   "outputs": [
    {
     "name": "stdout",
     "output_type": "stream",
     "text": [
      "     Int_rate  US_GDP_Thousands  Low_tier_HPI  Unemployment\n",
      "HPI                                                        \n",
      "80          2                50            50             7\n",
      "85          3                55            52             8\n",
      "85          3                55            53             6\n",
      "85          2                55            52             8\n",
      "85          2                55            53             6\n",
      "88          2                65            50             9\n"
     ]
    }
   ],
   "source": [
    "df1.set_index('HPI', inplace=True)\n",
    "df3.set_index('HPI', inplace=True)\n",
    "\n",
    "joined = df1.join(df3)\n",
    "print(joined)"
   ]
  },
  {
   "cell_type": "code",
   "execution_count": 7,
   "metadata": {},
   "outputs": [],
   "source": [
    "df1 = pd.DataFrame({'Year':[2001, 2002, 2003, 2004],\n",
    "                    'Int_rate':[2, 3, 2, 2],\n",
    "                    'US_GDP_Thousands':[50, 55, 65, 55]})\n",
    "\n",
    "df3 = pd.DataFrame({'Year':[2001, 2003, 2004, 2005],\n",
    "                    'Unemployment':[7, 8, 9, 6],\n",
    "                    'Low_tier_HPI':[50, 52, 50, 53]})"
   ]
  },
  {
   "cell_type": "code",
   "execution_count": 15,
   "metadata": {},
   "outputs": [
    {
     "name": "stdout",
     "output_type": "stream",
     "text": [
      "      Int_rate  US_GDP_Thousands  Low_tier_HPI  Unemployment\n",
      "Year                                                        \n",
      "2001         2                50            50             7\n",
      "2003         2                65            52             8\n",
      "2004         2                55            50             9\n",
      "\n",
      " df1\n",
      "      Int_rate  US_GDP_Thousands  Low_tier_HPI  Unemployment\n",
      "Year                                                        \n",
      "2001         2                50          50.0           7.0\n",
      "2002         3                55           NaN           NaN\n",
      "2003         2                65          52.0           8.0\n",
      "2004         2                55          50.0           9.0\n",
      "\n",
      " df3\n",
      "      Int_rate  US_GDP_Thousands  Low_tier_HPI  Unemployment\n",
      "Year                                                        \n",
      "2001       2.0              50.0            50             7\n",
      "2003       2.0              65.0            52             8\n",
      "2004       2.0              55.0            50             9\n",
      "2005       NaN               NaN            53             6\n",
      "\n",
      " 합집합\n",
      "      Int_rate  US_GDP_Thousands  Low_tier_HPI  Unemployment\n",
      "Year                                                        \n",
      "2001       2.0              50.0          50.0           7.0\n",
      "2002       3.0              55.0           NaN           NaN\n",
      "2003       2.0              65.0          52.0           8.0\n",
      "2004       2.0              55.0          50.0           9.0\n",
      "2005       NaN               NaN          53.0           6.0\n",
      "\n",
      " 교집합\n",
      "      Int_rate  US_GDP_Thousands  Low_tier_HPI  Unemployment\n",
      "Year                                                        \n",
      "2001         2                50            50             7\n",
      "2003         2                65            52             8\n",
      "2004         2                55            50             9\n"
     ]
    }
   ],
   "source": [
    "merged = pd.merge(df1, df3, on='Year')\n",
    "merged.set_index('Year',inplace=True)\n",
    "print(merged)\n",
    "\n",
    "print('\\n df1')\n",
    "\n",
    "merged = pd.merge(df1, df3, on='Year', how='left')\n",
    "merged.set_index('Year',inplace=True)\n",
    "print(merged)\n",
    "\n",
    "print('\\n df3')\n",
    "\n",
    "merged = pd.merge(df1, df3, on='Year', how='right')\n",
    "merged.set_index('Year',inplace=True)\n",
    "print(merged)\n",
    "\n",
    "print('\\n 합집합')\n",
    "#합집합\n",
    "merged = pd.merge(df1, df3, on='Year', how='outer')\n",
    "merged.set_index('Year',inplace=True)\n",
    "print(merged)\n",
    "\n",
    "print('\\n 교집합')\n",
    "#교집합\n",
    "merged = pd.merge(df1, df3, on='Year', how='inner')\n",
    "merged.set_index('Year',inplace=True)\n",
    "print(merged)"
   ]
  },
  {
   "cell_type": "code",
   "execution_count": null,
   "metadata": {},
   "outputs": [],
   "source": []
  }
 ],
 "metadata": {
  "kernelspec": {
   "display_name": "Python 3",
   "language": "python",
   "name": "python3"
  },
  "language_info": {
   "codemirror_mode": {
    "name": "ipython",
    "version": 3
   },
   "file_extension": ".py",
   "mimetype": "text/x-python",
   "name": "python",
   "nbconvert_exporter": "python",
   "pygments_lexer": "ipython3",
   "version": "3.5.5"
  }
 },
 "nbformat": 4,
 "nbformat_minor": 2
}
